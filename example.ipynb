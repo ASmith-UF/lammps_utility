{
 "cells": [
  {
   "cell_type": "markdown",
   "id": "87f7809f-bff2-4395-8d69-75643cf77266",
   "metadata": {},
   "source": [
    "# lammps_utility\n",
    "\n",
    "This notebook demonstrates an example use case of lammps_utility\n",
    "\n",
    "## dump_reader\n",
    "\n",
    "First, `dump_reader` will be used to perform some elementary analysis on `example.dump`."
   ]
  },
  {
   "cell_type": "code",
   "execution_count": 1,
   "id": "8e330cc9-3e30-45f9-b4a9-859a0eee2b33",
   "metadata": {},
   "outputs": [],
   "source": [
    "# Silence warnings to clean up notebook\n",
    "import warnings\n",
    "warnings.filterwarnings(\"ignore\")"
   ]
  },
  {
   "cell_type": "code",
   "execution_count": 2,
   "id": "2336d8c7-9b49-4ff6-a2d4-e99f062919ae",
   "metadata": {},
   "outputs": [],
   "source": [
    "# Import Snapshot and Snapshots. No other entry points are needed for dump_reader\n",
    "from lammps_utility.dump_reader import Snapshot, Snapshots\n",
    "import numpy as np"
   ]
  },
  {
   "cell_type": "code",
   "execution_count": 3,
   "id": "4172590f-4fd7-4bbc-9eac-d9112a63341a",
   "metadata": {},
   "outputs": [
    {
     "name": "stdout",
     "output_type": "stream",
     "text": [
      "Number of snapshots: 33\n",
      "Timesteps: 0, 10000, 20000, ...,             310000, 320000\n",
      "Custom data: disl_pos, disl_trajec\n"
     ]
    }
   ],
   "source": [
    "snapshots = Snapshots.from_dump(\"example.dump\")\n",
    "print(snapshots)"
   ]
  },
  {
   "cell_type": "markdown",
   "id": "358e4855-8fd7-4c17-9b6b-e779bdfa5174",
   "metadata": {},
   "source": [
    "As we can see, custom data has been loaded from this dump file. We can access it on the `Snapshots` level with:"
   ]
  },
  {
   "cell_type": "code",
   "execution_count": 4,
   "id": "f4d8edf0-8c07-4c27-bdfb-f5ee778b1fba",
   "metadata": {},
   "outputs": [
    {
     "data": {
      "text/plain": [
       "array([ -19.58377566,  -24.51401285,  -32.22488853,  -24.47504063,\n",
       "        -20.95273182,  -23.43173126,  -40.88327053,  -31.91847058,\n",
       "         -8.56145702,   28.56028607,   69.73070641,  117.04954071,\n",
       "        -86.71281253,  -33.48045535,   25.07689473,   85.82095852,\n",
       "       -108.01774047,  -64.34162962,  -14.66720144,   42.42353674,\n",
       "         93.20935453, -110.39093178,  -64.52802911,  -18.52616722,\n",
       "         27.4353135 ,   80.70320775,  125.47278381,  -78.23965326,\n",
       "        -23.67241083,   33.57989977,   78.09682207, -125.47033538,\n",
       "        -76.65729894])"
      ]
     },
     "execution_count": 4,
     "metadata": {},
     "output_type": "execute_result"
    }
   ],
   "source": [
    "snapshots.custom[\"disl_pos\"]"
   ]
  },
  {
   "cell_type": "markdown",
   "id": "2b18938f-1341-4751-b16e-612e98ad01d6",
   "metadata": {},
   "source": [
    "Or on the `Snapshot` level with:"
   ]
  },
  {
   "cell_type": "code",
   "execution_count": 5,
   "id": "796f1005-c7ca-48b9-9b38-8fe56cb5f209",
   "metadata": {},
   "outputs": [
    {
     "data": {
      "text/plain": [
       "-19.5837756593944"
      ]
     },
     "execution_count": 5,
     "metadata": {},
     "output_type": "execute_result"
    }
   ],
   "source": [
    "snapshots[0].custom[\"disl_pos\"]"
   ]
  },
  {
   "cell_type": "markdown",
   "id": "c4875464-ac99-4a7d-b797-af9ababda30c",
   "metadata": {},
   "source": [
    "For now, let's delete the custom data and re-calculate it:"
   ]
  },
  {
   "cell_type": "code",
   "execution_count": 6,
   "id": "7c007cac-a552-4246-8c22-936d96e13ff0",
   "metadata": {},
   "outputs": [
    {
     "data": {
      "text/plain": [
       "{}"
      ]
     },
     "execution_count": 6,
     "metadata": {},
     "output_type": "execute_result"
    }
   ],
   "source": [
    "del snapshots.custom[\"disl_pos\"]\n",
    "del snapshots.custom[\"disl_trajec\"]\n",
    "snapshots.custom"
   ]
  },
  {
   "cell_type": "markdown",
   "id": "38aab993-743f-492a-bd95-3e53a03670b5",
   "metadata": {},
   "source": [
    "There is no need here, but note the slicing capabilities of `Snapshots` objects:"
   ]
  },
  {
   "cell_type": "code",
   "execution_count": 7,
   "id": "7ce10404-7382-4b1a-b318-aee2c8c90003",
   "metadata": {},
   "outputs": [
    {
     "name": "stdout",
     "output_type": "stream",
     "text": [
      "Number of snapshots: 7\n",
      "Timesteps: 0, 50000, 100000, ...,             250000, 300000\n",
      "\n"
     ]
    }
   ],
   "source": [
    "print(snapshots.new[::5])"
   ]
  },
  {
   "cell_type": "markdown",
   "id": "20fc2741-84e3-40da-aa90-a9990aa9aa54",
   "metadata": {},
   "source": [
    "Here is an example of converting a `Snapshot` object to an atomman `System` object to perform atomic manipulation, then converting back to a `Snapshot`"
   ]
  },
  {
   "cell_type": "code",
   "execution_count": 8,
   "id": "d9b781db-4b81-46da-bbc9-803606835188",
   "metadata": {},
   "outputs": [],
   "source": [
    "def trim_snapshot(snapshot, thickness = 20):\n",
    "    system = snapshot.to_atomman()\n",
    "    \n",
    "    slab_center_y = system.box.ly/4\n",
    "    \n",
    "    is_in_slab = np.abs(system.atoms.pos[:, 1] - slab_center_y) <= (thickness/2)\n",
    "    \n",
    "    trimmed_system = system.atoms_ix[is_in_slab]\n",
    "    \n",
    "    return Snapshot.from_atomman(trimmed_system, timestep = snapshot.timestep)"
   ]
  },
  {
   "cell_type": "markdown",
   "id": "640e5a1a-2e6e-4e8b-a76a-e16cf90f2a6c",
   "metadata": {},
   "source": [
    "Let's use `Ovito` to see the effect. This dump file is actually already trimmed to reduce the input file's size."
   ]
  },
  {
   "cell_type": "code",
   "execution_count": null,
   "id": "3bb5eced-9b0f-4dd7-b790-babcb48a6aec",
   "metadata": {},
   "outputs": [],
   "source": [
    "trim = trim_snapshot(snapshots[0])   \n",
    "\n",
    "trim.render()"
   ]
  },
  {
   "cell_type": "markdown",
   "id": "0aa5db3a-cefe-41d1-8bc3-40caf08722c2",
   "metadata": {},
   "source": [
    "Let's apply the modification to all `Snapshot` objects"
   ]
  },
  {
   "cell_type": "code",
   "execution_count": 9,
   "id": "5326f912-ef79-4ee8-a61c-c681361f9520",
   "metadata": {},
   "outputs": [],
   "source": [
    "trimmed_snapshots = Snapshots.empty()\n",
    "\n",
    "for snapshot in snapshots:\n",
    "    trimmed_snapshots += trim_snapshot(snapshot)"
   ]
  },
  {
   "cell_type": "markdown",
   "id": "cac0b7b2-01b4-4941-aea1-efa335615dae",
   "metadata": {},
   "source": [
    "Let's perform some analysis to determine the dislocation position in each snapshot. First, let's initialize a new custom data entry:"
   ]
  },
  {
   "cell_type": "code",
   "execution_count": 10,
   "id": "e62b35d9-835d-476b-aacd-368691787690",
   "metadata": {},
   "outputs": [
    {
     "data": {
      "text/plain": [
       "{'disl_pos': array([nan, nan, nan, nan, nan, nan, nan, nan, nan, nan, nan, nan, nan,\n",
       "       nan, nan, nan, nan, nan, nan, nan, nan, nan, nan, nan, nan, nan,\n",
       "       nan, nan, nan, nan, nan, nan, nan])}"
      ]
     },
     "execution_count": 10,
     "metadata": {},
     "output_type": "execute_result"
    }
   ],
   "source": [
    "trimmed_snapshots.custom[\"disl_pos\"] = np.NaN\n",
    "trimmed_snapshots.custom"
   ]
  },
  {
   "cell_type": "markdown",
   "id": "704472e4-0240-4823-ab53-cde7562fc931",
   "metadata": {},
   "source": [
    "Now, lets loop over each snapshot and perform atomic analysis"
   ]
  },
  {
   "cell_type": "code",
   "execution_count": 11,
   "id": "1266b56c-b9ff-4fc3-b142-7fa8db53962f",
   "metadata": {},
   "outputs": [
    {
     "data": {
      "text/plain": [
       "array([ -19.58377566,  -24.51401285,  -32.22488853,  -24.47504063,\n",
       "        -20.95273182,  -23.43173126,  -40.88327053,  -31.91847058,\n",
       "         -8.56145702,   28.56028607,   69.73070641,  117.04954071,\n",
       "        -86.71281253,  -33.48045535,   25.07689473,   85.82095852,\n",
       "       -108.01774047,  -64.34162962,  -14.66720144,   42.42353674,\n",
       "         93.20935453, -110.39093178,  -64.52802911,  -18.52616722,\n",
       "         27.4353135 ,   80.70320775,  125.47278381,  -78.23965326,\n",
       "        -23.67241083,   33.57989977,   78.09682207, -125.47033538,\n",
       "        -76.65729894])"
      ]
     },
     "execution_count": 11,
     "metadata": {},
     "output_type": "execute_result"
    }
   ],
   "source": [
    "for snapshot in trimmed_snapshots:\n",
    "    system = snapshot.to_atomman()\n",
    "    \n",
    "    disl_atom_index = system.atoms.c_centro_atom.argmax()\n",
    "    \n",
    "    disl_position = system.atoms.pos[disl_atom_index, 0]\n",
    "    \n",
    "    snapshot.custom[\"disl_pos\"] = disl_position\n",
    "    \n",
    "trimmed_snapshots.custom[\"disl_pos\"]"
   ]
  },
  {
   "cell_type": "markdown",
   "id": "a6ca3cc4-7f88-4ce2-ae0c-e99d5e60e03e",
   "metadata": {},
   "source": [
    "`unwrap` accounts for periodic boundaries so that the dislocation position increases in magnitude"
   ]
  },
  {
   "cell_type": "code",
   "execution_count": 12,
   "id": "52a8a608-e667-4f5b-a6e1-21279cfd1f79",
   "metadata": {},
   "outputs": [],
   "source": [
    "def unwrap(positions, length):\n",
    "    delta = np.diff(positions)\n",
    "    delta_wrap = delta - np.sign(delta)*length\n",
    "    displacements = np.where(abs(delta) < abs(delta_wrap), delta, delta_wrap)\n",
    "    \n",
    "    new_positions = positions.copy()\n",
    "    \n",
    "    for i, displacement in enumerate(displacements):\n",
    "        new_positions[i + 1] = new_positions[i] + displacement\n",
    "    \n",
    "    return new_positions"
   ]
  },
  {
   "cell_type": "markdown",
   "id": "c8243899-801d-42ca-bd20-613331532111",
   "metadata": {},
   "source": [
    "Make another custom data entry and store"
   ]
  },
  {
   "cell_type": "code",
   "execution_count": 13,
   "id": "c33fedf1-b685-4fb3-aea3-ee5e405356f5",
   "metadata": {},
   "outputs": [
    {
     "data": {
      "text/plain": [
       "array([ -19.58377566,  -24.51401285,  -32.22488853,  -24.47504063,\n",
       "        -20.95273182,  -23.43173126,  -40.88327053,  -31.91847058,\n",
       "         -8.56145702,   28.56028607,   69.73070641,  117.04954071,\n",
       "        171.37677052,  224.6091277 ,  283.16647778,  343.91054157,\n",
       "        408.16142563,  451.83753648,  501.51196466,  558.60270284,\n",
       "        609.38852063,  663.87781737,  709.74072004,  755.74258193,\n",
       "        801.70406266,  854.9719569 ,  899.74153296,  954.11867894,\n",
       "       1008.68592137, 1065.93823197, 1110.45515427, 1164.97757987,\n",
       "       1213.79061631])"
      ]
     },
     "execution_count": 13,
     "metadata": {},
     "output_type": "execute_result"
    }
   ],
   "source": [
    "lx = trimmed_snapshots[0].box.lx\n",
    "\n",
    "trimmed_snapshots.custom[\"disl_trajec\"] = unwrap(trimmed_snapshots.custom[\"disl_pos\"], lx)\n",
    "trimmed_snapshots.custom[\"disl_trajec\"]"
   ]
  },
  {
   "cell_type": "markdown",
   "id": "9dbe16d7-c0a3-43c3-8cf4-5dba45cceda1",
   "metadata": {},
   "source": [
    "Write new dumps to file. The custom data will be written aswell and reloaded into `custom` next time we load it in."
   ]
  },
  {
   "cell_type": "code",
   "execution_count": 14,
   "id": "304f4479-dcb3-49ff-abec-19ab449fbf4d",
   "metadata": {},
   "outputs": [],
   "source": [
    "trimmed_snapshots.write_dump(\"analyzed.dump\", allow_overwrite = True)"
   ]
  },
  {
   "cell_type": "markdown",
   "id": "af28f95a-d5ac-484b-8462-cc2eda6cb0b0",
   "metadata": {},
   "source": [
    "Let's use the plotting functions in `thermo_reader` for an interative plot."
   ]
  },
  {
   "cell_type": "code",
   "execution_count": 15,
   "id": "d7a67473-97ed-4928-ba3e-52f62726a2cb",
   "metadata": {},
   "outputs": [],
   "source": [
    "from lammps_utility.thermo_reader import plot_data\n",
    "\n",
    "plot_data(x = trimmed_snapshots.timesteps, y = trimmed_snapshots.custom[\"disl_trajec\"], x_label = \"Time (ps)\", y_label = \"Dislocation Trajectory (Å)\")\n",
    "\n",
    "# Plot opens in new window"
   ]
  },
  {
   "cell_type": "markdown",
   "id": "4c6479f9-c3fb-4962-a375-5133f7a662d6",
   "metadata": {
    "tags": []
   },
   "source": [
    "## thermo_reader\n",
    "\n",
    "The main function of `thermo_reader` is to parse YAML thermodynamic tables from LAMMPS log files. Let's do an example:"
   ]
  },
  {
   "cell_type": "code",
   "execution_count": 16,
   "id": "8966f72c-1924-458d-bedb-b03d85600567",
   "metadata": {},
   "outputs": [
    {
     "data": {
      "text/html": [
       "<div>\n",
       "<style scoped>\n",
       "    .dataframe tbody tr th:only-of-type {\n",
       "        vertical-align: middle;\n",
       "    }\n",
       "\n",
       "    .dataframe tbody tr th {\n",
       "        vertical-align: top;\n",
       "    }\n",
       "\n",
       "    .dataframe thead th {\n",
       "        text-align: right;\n",
       "    }\n",
       "</style>\n",
       "<table border=\"1\" class=\"dataframe\">\n",
       "  <thead>\n",
       "    <tr style=\"text-align: right;\">\n",
       "      <th></th>\n",
       "      <th>Step</th>\n",
       "      <th>Time</th>\n",
       "      <th>Temp</th>\n",
       "      <th>Press</th>\n",
       "      <th>PotEng</th>\n",
       "      <th>KinEng</th>\n",
       "      <th>Volume</th>\n",
       "      <th>Lx</th>\n",
       "      <th>Ly</th>\n",
       "      <th>Lz</th>\n",
       "      <th>Xy</th>\n",
       "      <th>Xz</th>\n",
       "      <th>Yz</th>\n",
       "      <th>Pxx</th>\n",
       "      <th>Pyy</th>\n",
       "      <th>Pzz</th>\n",
       "      <th>Pxy</th>\n",
       "      <th>Pxz</th>\n",
       "      <th>Pyz</th>\n",
       "    </tr>\n",
       "  </thead>\n",
       "  <tbody>\n",
       "    <tr>\n",
       "      <th>0</th>\n",
       "      <td>0</td>\n",
       "      <td>0.00</td>\n",
       "      <td>0</td>\n",
       "      <td>-0.019003</td>\n",
       "      <td>-811399.68553</td>\n",
       "      <td>0</td>\n",
       "      <td>4.010520e+06</td>\n",
       "      <td>257.93127</td>\n",
       "      <td>904.909944</td>\n",
       "      <td>17.182695</td>\n",
       "      <td>0</td>\n",
       "      <td>0</td>\n",
       "      <td>0</td>\n",
       "      <td>-0.019003</td>\n",
       "      <td>-0.019003</td>\n",
       "      <td>-0.019003</td>\n",
       "      <td>4.981978e-11</td>\n",
       "      <td>-7.327799e-12</td>\n",
       "      <td>-1.483132e-12</td>\n",
       "    </tr>\n",
       "    <tr>\n",
       "      <th>1</th>\n",
       "      <td>50</td>\n",
       "      <td>0.05</td>\n",
       "      <td>0</td>\n",
       "      <td>-0.019003</td>\n",
       "      <td>-811399.68553</td>\n",
       "      <td>0</td>\n",
       "      <td>4.010520e+06</td>\n",
       "      <td>257.93127</td>\n",
       "      <td>904.909944</td>\n",
       "      <td>17.182695</td>\n",
       "      <td>0</td>\n",
       "      <td>0</td>\n",
       "      <td>0</td>\n",
       "      <td>-0.019003</td>\n",
       "      <td>-0.019003</td>\n",
       "      <td>-0.019003</td>\n",
       "      <td>-3.463058e-13</td>\n",
       "      <td>-1.564612e-12</td>\n",
       "      <td>5.221236e-12</td>\n",
       "    </tr>\n",
       "    <tr>\n",
       "      <th>2</th>\n",
       "      <td>100</td>\n",
       "      <td>0.10</td>\n",
       "      <td>0</td>\n",
       "      <td>-0.019003</td>\n",
       "      <td>-811399.68553</td>\n",
       "      <td>0</td>\n",
       "      <td>4.010520e+06</td>\n",
       "      <td>257.93127</td>\n",
       "      <td>904.909944</td>\n",
       "      <td>17.182695</td>\n",
       "      <td>0</td>\n",
       "      <td>0</td>\n",
       "      <td>0</td>\n",
       "      <td>-0.019003</td>\n",
       "      <td>-0.019003</td>\n",
       "      <td>-0.019003</td>\n",
       "      <td>1.708820e-12</td>\n",
       "      <td>1.418578e-12</td>\n",
       "      <td>-2.209892e-11</td>\n",
       "    </tr>\n",
       "    <tr>\n",
       "      <th>3</th>\n",
       "      <td>150</td>\n",
       "      <td>0.15</td>\n",
       "      <td>0</td>\n",
       "      <td>-0.019003</td>\n",
       "      <td>-811399.68553</td>\n",
       "      <td>0</td>\n",
       "      <td>4.010520e+06</td>\n",
       "      <td>257.93127</td>\n",
       "      <td>904.909944</td>\n",
       "      <td>17.182695</td>\n",
       "      <td>0</td>\n",
       "      <td>0</td>\n",
       "      <td>0</td>\n",
       "      <td>-0.019003</td>\n",
       "      <td>-0.019003</td>\n",
       "      <td>-0.019003</td>\n",
       "      <td>1.302905e-12</td>\n",
       "      <td>1.874407e-12</td>\n",
       "      <td>-4.745965e-12</td>\n",
       "    </tr>\n",
       "    <tr>\n",
       "      <th>4</th>\n",
       "      <td>200</td>\n",
       "      <td>0.20</td>\n",
       "      <td>0</td>\n",
       "      <td>-0.019003</td>\n",
       "      <td>-811399.68553</td>\n",
       "      <td>0</td>\n",
       "      <td>4.010520e+06</td>\n",
       "      <td>257.93127</td>\n",
       "      <td>904.909944</td>\n",
       "      <td>17.182695</td>\n",
       "      <td>0</td>\n",
       "      <td>0</td>\n",
       "      <td>0</td>\n",
       "      <td>-0.019003</td>\n",
       "      <td>-0.019003</td>\n",
       "      <td>-0.019003</td>\n",
       "      <td>1.640695e-12</td>\n",
       "      <td>-2.781325e-12</td>\n",
       "      <td>1.235831e-11</td>\n",
       "    </tr>\n",
       "    <tr>\n",
       "      <th>...</th>\n",
       "      <td>...</td>\n",
       "      <td>...</td>\n",
       "      <td>...</td>\n",
       "      <td>...</td>\n",
       "      <td>...</td>\n",
       "      <td>...</td>\n",
       "      <td>...</td>\n",
       "      <td>...</td>\n",
       "      <td>...</td>\n",
       "      <td>...</td>\n",
       "      <td>...</td>\n",
       "      <td>...</td>\n",
       "      <td>...</td>\n",
       "      <td>...</td>\n",
       "      <td>...</td>\n",
       "      <td>...</td>\n",
       "      <td>...</td>\n",
       "      <td>...</td>\n",
       "      <td>...</td>\n",
       "    </tr>\n",
       "    <tr>\n",
       "      <th>96</th>\n",
       "      <td>4800</td>\n",
       "      <td>4.80</td>\n",
       "      <td>0</td>\n",
       "      <td>-0.019003</td>\n",
       "      <td>-811399.68553</td>\n",
       "      <td>0</td>\n",
       "      <td>4.010520e+06</td>\n",
       "      <td>257.93127</td>\n",
       "      <td>904.909944</td>\n",
       "      <td>17.182695</td>\n",
       "      <td>0</td>\n",
       "      <td>0</td>\n",
       "      <td>0</td>\n",
       "      <td>-0.019003</td>\n",
       "      <td>-0.019003</td>\n",
       "      <td>-0.019003</td>\n",
       "      <td>5.336516e-13</td>\n",
       "      <td>-3.134953e-12</td>\n",
       "      <td>2.245939e-12</td>\n",
       "    </tr>\n",
       "    <tr>\n",
       "      <th>97</th>\n",
       "      <td>4850</td>\n",
       "      <td>4.85</td>\n",
       "      <td>0</td>\n",
       "      <td>-0.019003</td>\n",
       "      <td>-811399.68553</td>\n",
       "      <td>0</td>\n",
       "      <td>4.010520e+06</td>\n",
       "      <td>257.93127</td>\n",
       "      <td>904.909944</td>\n",
       "      <td>17.182695</td>\n",
       "      <td>0</td>\n",
       "      <td>0</td>\n",
       "      <td>0</td>\n",
       "      <td>-0.019003</td>\n",
       "      <td>-0.019003</td>\n",
       "      <td>-0.019003</td>\n",
       "      <td>5.279744e-13</td>\n",
       "      <td>-5.471794e-12</td>\n",
       "      <td>-2.867103e-13</td>\n",
       "    </tr>\n",
       "    <tr>\n",
       "      <th>98</th>\n",
       "      <td>4900</td>\n",
       "      <td>4.90</td>\n",
       "      <td>0</td>\n",
       "      <td>-0.019003</td>\n",
       "      <td>-811399.68553</td>\n",
       "      <td>0</td>\n",
       "      <td>4.010520e+06</td>\n",
       "      <td>257.93127</td>\n",
       "      <td>904.909944</td>\n",
       "      <td>17.182695</td>\n",
       "      <td>0</td>\n",
       "      <td>0</td>\n",
       "      <td>0</td>\n",
       "      <td>-0.019003</td>\n",
       "      <td>-0.019003</td>\n",
       "      <td>-0.019003</td>\n",
       "      <td>1.396577e-12</td>\n",
       "      <td>-1.233232e-12</td>\n",
       "      <td>-3.941433e-13</td>\n",
       "    </tr>\n",
       "    <tr>\n",
       "      <th>99</th>\n",
       "      <td>4950</td>\n",
       "      <td>4.95</td>\n",
       "      <td>0</td>\n",
       "      <td>-0.019003</td>\n",
       "      <td>-811399.68553</td>\n",
       "      <td>0</td>\n",
       "      <td>4.010520e+06</td>\n",
       "      <td>257.93127</td>\n",
       "      <td>904.909944</td>\n",
       "      <td>17.182695</td>\n",
       "      <td>0</td>\n",
       "      <td>0</td>\n",
       "      <td>0</td>\n",
       "      <td>-0.019003</td>\n",
       "      <td>-0.019003</td>\n",
       "      <td>-0.019003</td>\n",
       "      <td>7.948002e-13</td>\n",
       "      <td>-1.159767e-12</td>\n",
       "      <td>2.946985e-12</td>\n",
       "    </tr>\n",
       "    <tr>\n",
       "      <th>100</th>\n",
       "      <td>5000</td>\n",
       "      <td>5.00</td>\n",
       "      <td>0</td>\n",
       "      <td>-0.019003</td>\n",
       "      <td>-811399.68553</td>\n",
       "      <td>0</td>\n",
       "      <td>4.010520e+06</td>\n",
       "      <td>257.93127</td>\n",
       "      <td>904.909944</td>\n",
       "      <td>17.182695</td>\n",
       "      <td>0</td>\n",
       "      <td>0</td>\n",
       "      <td>0</td>\n",
       "      <td>-0.019003</td>\n",
       "      <td>-0.019003</td>\n",
       "      <td>-0.019003</td>\n",
       "      <td>9.055045e-13</td>\n",
       "      <td>2.553069e-12</td>\n",
       "      <td>-1.233851e-11</td>\n",
       "    </tr>\n",
       "  </tbody>\n",
       "</table>\n",
       "<p>101 rows × 19 columns</p>\n",
       "</div>"
      ],
      "text/plain": [
       "     Step  Time  Temp     Press        PotEng  KinEng        Volume  \\\n",
       "0       0  0.00     0 -0.019003 -811399.68553       0  4.010520e+06   \n",
       "1      50  0.05     0 -0.019003 -811399.68553       0  4.010520e+06   \n",
       "2     100  0.10     0 -0.019003 -811399.68553       0  4.010520e+06   \n",
       "3     150  0.15     0 -0.019003 -811399.68553       0  4.010520e+06   \n",
       "4     200  0.20     0 -0.019003 -811399.68553       0  4.010520e+06   \n",
       "..    ...   ...   ...       ...           ...     ...           ...   \n",
       "96   4800  4.80     0 -0.019003 -811399.68553       0  4.010520e+06   \n",
       "97   4850  4.85     0 -0.019003 -811399.68553       0  4.010520e+06   \n",
       "98   4900  4.90     0 -0.019003 -811399.68553       0  4.010520e+06   \n",
       "99   4950  4.95     0 -0.019003 -811399.68553       0  4.010520e+06   \n",
       "100  5000  5.00     0 -0.019003 -811399.68553       0  4.010520e+06   \n",
       "\n",
       "            Lx          Ly         Lz  Xy  Xz  Yz       Pxx       Pyy  \\\n",
       "0    257.93127  904.909944  17.182695   0   0   0 -0.019003 -0.019003   \n",
       "1    257.93127  904.909944  17.182695   0   0   0 -0.019003 -0.019003   \n",
       "2    257.93127  904.909944  17.182695   0   0   0 -0.019003 -0.019003   \n",
       "3    257.93127  904.909944  17.182695   0   0   0 -0.019003 -0.019003   \n",
       "4    257.93127  904.909944  17.182695   0   0   0 -0.019003 -0.019003   \n",
       "..         ...         ...        ...  ..  ..  ..       ...       ...   \n",
       "96   257.93127  904.909944  17.182695   0   0   0 -0.019003 -0.019003   \n",
       "97   257.93127  904.909944  17.182695   0   0   0 -0.019003 -0.019003   \n",
       "98   257.93127  904.909944  17.182695   0   0   0 -0.019003 -0.019003   \n",
       "99   257.93127  904.909944  17.182695   0   0   0 -0.019003 -0.019003   \n",
       "100  257.93127  904.909944  17.182695   0   0   0 -0.019003 -0.019003   \n",
       "\n",
       "          Pzz           Pxy           Pxz           Pyz  \n",
       "0   -0.019003  4.981978e-11 -7.327799e-12 -1.483132e-12  \n",
       "1   -0.019003 -3.463058e-13 -1.564612e-12  5.221236e-12  \n",
       "2   -0.019003  1.708820e-12  1.418578e-12 -2.209892e-11  \n",
       "3   -0.019003  1.302905e-12  1.874407e-12 -4.745965e-12  \n",
       "4   -0.019003  1.640695e-12 -2.781325e-12  1.235831e-11  \n",
       "..        ...           ...           ...           ...  \n",
       "96  -0.019003  5.336516e-13 -3.134953e-12  2.245939e-12  \n",
       "97  -0.019003  5.279744e-13 -5.471794e-12 -2.867103e-13  \n",
       "98  -0.019003  1.396577e-12 -1.233232e-12 -3.941433e-13  \n",
       "99  -0.019003  7.948002e-13 -1.159767e-12  2.946985e-12  \n",
       "100 -0.019003  9.055045e-13  2.553069e-12 -1.233851e-11  \n",
       "\n",
       "[101 rows x 19 columns]"
      ]
     },
     "execution_count": 16,
     "metadata": {},
     "output_type": "execute_result"
    }
   ],
   "source": [
    "from lammps_utility.thermo_reader import parse_log_file\n",
    "\n",
    "dataframes = parse_log_file(\"example.log\")\n",
    "dataframes[1]"
   ]
  },
  {
   "cell_type": "markdown",
   "id": "1a23bec1-6e12-4594-9254-ca7428b2fad4",
   "metadata": {},
   "source": [
    "Dataframes is a one-indexed dictionary (for user-ease in counting) containing `Pandas` DataFrames of the thermodynamic tables corresponding to each run. Also, information about the units, timestep, and run style is recorded if it is available:"
   ]
  },
  {
   "cell_type": "code",
   "execution_count": 17,
   "id": "805014d0-a266-4c92-b306-671d2b58627f",
   "metadata": {},
   "outputs": [
    {
     "data": {
      "text/plain": [
       "{'type': 'minimization', 'unit_style': 'metal'}"
      ]
     },
     "execution_count": 17,
     "metadata": {},
     "output_type": "execute_result"
    }
   ],
   "source": [
    "dataframes[1].attrs"
   ]
  },
  {
   "cell_type": "code",
   "execution_count": 18,
   "id": "aaa48ff5-4bbc-4a5d-9886-b724e029ffb8",
   "metadata": {},
   "outputs": [
    {
     "data": {
      "text/plain": [
       "{'timestep': 0.001, 'type': 'dynamics', 'unit_style': 'metal'}"
      ]
     },
     "execution_count": 18,
     "metadata": {},
     "output_type": "execute_result"
    }
   ],
   "source": [
    "dataframes[9].attrs"
   ]
  },
  {
   "cell_type": "markdown",
   "id": "8b0b43d9-5d0d-49b5-9dd6-f48c0823141a",
   "metadata": {},
   "source": [
    "Also, if `time` was not outputted but `timestep` and `step` were, `time` will automatically be calculated and added to the DataFrame"
   ]
  },
  {
   "cell_type": "markdown",
   "id": "62d7a294-0ac2-454c-ae04-8b0ffd46649b",
   "metadata": {},
   "source": [
    "Also, `thermo_reader` offers an interactive plotter which auto-fills units (if they are available):"
   ]
  },
  {
   "cell_type": "code",
   "execution_count": 19,
   "id": "85fb11f1-1a9f-4691-b7ec-a024605afb76",
   "metadata": {},
   "outputs": [],
   "source": [
    "from lammps_utility.thermo_reader import plot_log_data\n",
    "\n",
    "plot_log_data(dataframes, 9, \"Temp\")\n",
    "# Plot opens in new window"
   ]
  },
  {
   "cell_type": "markdown",
   "id": "860895b7-e63f-4c13-ab0b-c1b28e733261",
   "metadata": {},
   "source": [
    "## data_gui\n",
    "\n",
    "Data gui launches an interactive GUI allowing global dump or thermodynamic properties to be plotted. You may test it on the example files given."
   ]
  },
  {
   "cell_type": "code",
   "execution_count": null,
   "id": "55ec0ce1-e3c3-44ae-ae94-5b4e32090894",
   "metadata": {},
   "outputs": [],
   "source": [
    "from lammps_utility.data_gui import launch\n",
    "launch()"
   ]
  }
 ],
 "metadata": {
  "kernelspec": {
   "display_name": "Python [conda env:lammps_utility_2]",
   "language": "python",
   "name": "conda-env-lammps_utility_2-py"
  },
  "language_info": {
   "codemirror_mode": {
    "name": "ipython",
    "version": 3
   },
   "file_extension": ".py",
   "mimetype": "text/x-python",
   "name": "python",
   "nbconvert_exporter": "python",
   "pygments_lexer": "ipython3",
   "version": "3.10.8"
  }
 },
 "nbformat": 4,
 "nbformat_minor": 5
}
